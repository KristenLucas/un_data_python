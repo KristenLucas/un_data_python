{
 "cells": [
  {
   "cell_type": "markdown",
   "metadata": {},
   "source": [
    "#  UN Data Analysis Project"
   ]
  },
  {
   "cell_type": "markdown",
   "metadata": {},
   "source": [
    "Analysis on UN Data comparing gdp per capita and internet usage."
   ]
  },
  {
   "cell_type": "markdown",
   "metadata": {},
   "source": [
    "### Import Library"
   ]
  },
  {
   "cell_type": "code",
   "execution_count": 3,
   "metadata": {},
   "outputs": [],
   "source": [
    "import pandas as pd\n",
    "import numpy as np\n",
    "import matplotlib.pyplot as plt\n",
    "import seaborn as sns"
   ]
  },
  {
   "cell_type": "markdown",
   "metadata": {},
   "source": [
    "### Formatting"
   ]
  },
  {
   "cell_type": "code",
   "execution_count": 4,
   "metadata": {},
   "outputs": [],
   "source": [
    "%matplotlib inline"
   ]
  },
  {
   "cell_type": "markdown",
   "metadata": {},
   "source": [
    "### Load Data"
   ]
  },
  {
   "cell_type": "code",
   "execution_count": 27,
   "metadata": {},
   "outputs": [],
   "source": [
    "gdp_df = pd.read_csv('../data/gdp_percapita.csv', nrows=6730)"
   ]
  },
  {
   "cell_type": "code",
   "execution_count": null,
   "metadata": {},
   "outputs": [],
   "source": []
  },
  {
   "cell_type": "code",
   "execution_count": 12,
   "metadata": {},
   "outputs": [],
   "source": [
    "internet_df = pd.read_csv('../data/internet_use.csv', nrows=4496)"
   ]
  },
  {
   "cell_type": "code",
   "execution_count": 20,
   "metadata": {},
   "outputs": [
    {
     "name": "stdout",
     "output_type": "stream",
     "text": [
      "<bound method NDFrame.head of      Country or Area      Year     Value  Value Footnotes\n",
      "0        Afghanistan      2014  6.390000              NaN\n",
      "1        Afghanistan      2013  5.900000              NaN\n",
      "2        Afghanistan      2012  5.454545              NaN\n",
      "3        Afghanistan      2011  5.000000              NaN\n",
      "4        Afghanistan      2010  4.000000              NaN\n",
      "...              ...       ...       ...              ...\n",
      "4491        Zimbabwe      1996  0.016790              NaN\n",
      "4492        Zimbabwe      1995  0.007684              NaN\n",
      "4493        Zimbabwe      1994  0.001739              NaN\n",
      "4494        Zimbabwe      1990  0.000000              NaN\n",
      "4495   footnoteSeqID  Footnote       NaN              NaN\n",
      "\n",
      "[4496 rows x 4 columns]>\n"
     ]
    }
   ],
   "source": []
  },
  {
   "cell_type": "markdown",
   "metadata": {},
   "source": [
    "### Answering Questions"
   ]
  },
  {
   "cell_type": "markdown",
   "metadata": {},
   "source": [
    "##### 7. Look at the shape of each dataframe - how many rows, how many columns."
   ]
  },
  {
   "cell_type": "code",
   "execution_count": 14,
   "metadata": {},
   "outputs": [
    {
     "data": {
      "text/plain": [
       "(6731, 4)"
      ]
     },
     "execution_count": 14,
     "metadata": {},
     "output_type": "execute_result"
    }
   ],
   "source": [
    "gdp_df.shape\n",
    "\n",
    "# 6731 rows, 4 columns"
   ]
  },
  {
   "cell_type": "code",
   "execution_count": 15,
   "metadata": {},
   "outputs": [
    {
     "data": {
      "text/plain": [
       "(4496, 4)"
      ]
     },
     "execution_count": 15,
     "metadata": {},
     "output_type": "execute_result"
    }
   ],
   "source": [
    "internet_df.shape\n",
    "\n",
    "# 4496 rows, 4 columns"
   ]
  },
  {
   "cell_type": "markdown",
   "metadata": {},
   "source": [
    "##### 8. Take a look at the data types for the columns in each table."
   ]
  },
  {
   "cell_type": "code",
   "execution_count": 23,
   "metadata": {},
   "outputs": [
    {
     "data": {
      "text/plain": [
       "pandas.core.frame.DataFrame"
      ]
     },
     "execution_count": 23,
     "metadata": {},
     "output_type": "execute_result"
    }
   ],
   "source": [
    "type(gdp_df)"
   ]
  },
  {
   "cell_type": "code",
   "execution_count": 22,
   "metadata": {},
   "outputs": [
    {
     "data": {
      "text/plain": [
       "pandas.core.frame.DataFrame"
      ]
     },
     "execution_count": 22,
     "metadata": {},
     "output_type": "execute_result"
    }
   ],
   "source": [
    "type(internet_df)"
   ]
  },
  {
   "cell_type": "markdown",
   "metadata": {},
   "source": [
    "##### 9. Take a look at the last 10 rows of each dataset in turn."
   ]
  },
  {
   "cell_type": "code",
   "execution_count": 25,
   "metadata": {},
   "outputs": [
    {
     "name": "stdout",
     "output_type": "stream",
     "text": [
      "     Country or Area                                      Year        Value  \\\n",
      "6721        Zimbabwe                                      1997  3036.422224   \n",
      "6722        Zimbabwe                                      1996  2985.856605   \n",
      "6723        Zimbabwe                                      1995  2736.486436   \n",
      "6724        Zimbabwe                                      1994  2768.309953   \n",
      "6725        Zimbabwe                                      1993  2572.870395   \n",
      "6726        Zimbabwe                                      1992  2591.007534   \n",
      "6727        Zimbabwe                                      1991  2906.272849   \n",
      "6728        Zimbabwe                                      1990  2819.549467   \n",
      "6729   footnoteSeqID                                  Footnote          NaN   \n",
      "6730               2  Excludes South Sudan after July 9, 2011.          NaN   \n",
      "\n",
      "      Value Footnotes  \n",
      "6721              NaN  \n",
      "6722              NaN  \n",
      "6723              NaN  \n",
      "6724              NaN  \n",
      "6725              NaN  \n",
      "6726              NaN  \n",
      "6727              NaN  \n",
      "6728              NaN  \n",
      "6729              NaN  \n",
      "6730              NaN  \n"
     ]
    }
   ],
   "source": [
    "print(gdp_df.tail(10))"
   ]
  },
  {
   "cell_type": "code",
   "execution_count": 26,
   "metadata": {
    "scrolled": true
   },
   "outputs": [
    {
     "name": "stdout",
     "output_type": "stream",
     "text": [
      "     Country or Area      Year     Value  Value Footnotes\n",
      "4486        Zimbabwe      2001  0.799846              NaN\n",
      "4487        Zimbabwe      2000  0.401434              NaN\n",
      "4488        Zimbabwe      1999  0.161676              NaN\n",
      "4489        Zimbabwe      1998  0.081648              NaN\n",
      "4490        Zimbabwe      1997  0.033080              NaN\n",
      "4491        Zimbabwe      1996  0.016790              NaN\n",
      "4492        Zimbabwe      1995  0.007684              NaN\n",
      "4493        Zimbabwe      1994  0.001739              NaN\n",
      "4494        Zimbabwe      1990  0.000000              NaN\n",
      "4495   footnoteSeqID  Footnote       NaN              NaN\n"
     ]
    }
   ],
   "source": [
    "print(internet_df.tail(10))"
   ]
  },
  {
   "cell_type": "markdown",
   "metadata": {},
   "source": [
    "##### 10. Drop the 'value footnotes' data (column) from both datasets. Check that this worked as expected."
   ]
  },
  {
   "cell_type": "code",
   "execution_count": 30,
   "metadata": {},
   "outputs": [
    {
     "name": "stdout",
     "output_type": "stream",
     "text": [
      "<bound method NDFrame.tail of      Country or Area      Year        Value  Value Footnotes\n",
      "0        Afghanistan      2018  1734.723214              NaN\n",
      "1        Afghanistan      2017  1758.465636              NaN\n",
      "2        Afghanistan      2016  1757.023490              NaN\n",
      "3        Afghanistan      2015  1766.593077              NaN\n",
      "4        Afghanistan      2014  1795.735834              NaN\n",
      "...              ...       ...          ...              ...\n",
      "6725        Zimbabwe      1993  2572.870395              NaN\n",
      "6726        Zimbabwe      1992  2591.007534              NaN\n",
      "6727        Zimbabwe      1991  2906.272849              NaN\n",
      "6728        Zimbabwe      1990  2819.549467              NaN\n",
      "6729   footnoteSeqID  Footnote          NaN              NaN\n",
      "\n",
      "[6730 rows x 4 columns]>\n"
     ]
    }
   ],
   "source": [
    "print(gdp_df.tail)"
   ]
  },
  {
   "cell_type": "code",
   "execution_count": 31,
   "metadata": {},
   "outputs": [
    {
     "name": "stdout",
     "output_type": "stream",
     "text": [
      "<bound method NDFrame.tail of      Country or Area      Year     Value  Value Footnotes\n",
      "0        Afghanistan      2014  6.390000              NaN\n",
      "1        Afghanistan      2013  5.900000              NaN\n",
      "2        Afghanistan      2012  5.454545              NaN\n",
      "3        Afghanistan      2011  5.000000              NaN\n",
      "4        Afghanistan      2010  4.000000              NaN\n",
      "...              ...       ...       ...              ...\n",
      "4491        Zimbabwe      1996  0.016790              NaN\n",
      "4492        Zimbabwe      1995  0.007684              NaN\n",
      "4493        Zimbabwe      1994  0.001739              NaN\n",
      "4494        Zimbabwe      1990  0.000000              NaN\n",
      "4495   footnoteSeqID  Footnote       NaN              NaN\n",
      "\n",
      "[4496 rows x 4 columns]>\n"
     ]
    }
   ],
   "source": [
    "print(internet_df.tail)"
   ]
  },
  {
   "cell_type": "code",
   "execution_count": null,
   "metadata": {},
   "outputs": [],
   "source": []
  }
 ],
 "metadata": {
  "kernelspec": {
   "display_name": "Python 3",
   "language": "python",
   "name": "python3"
  },
  "language_info": {
   "codemirror_mode": {
    "name": "ipython",
    "version": 3
   },
   "file_extension": ".py",
   "mimetype": "text/x-python",
   "name": "python",
   "nbconvert_exporter": "python",
   "pygments_lexer": "ipython3",
   "version": "3.8.3"
  }
 },
 "nbformat": 4,
 "nbformat_minor": 4
}
